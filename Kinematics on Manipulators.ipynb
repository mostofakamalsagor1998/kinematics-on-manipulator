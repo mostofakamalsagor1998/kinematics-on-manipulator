{
 "cells": [
  {
   "cell_type": "markdown",
   "metadata": {},
   "source": [
    "<h1>Forward Kinematics</h1>"
   ]
  },
  {
   "cell_type": "code",
   "execution_count": 7,
   "metadata": {},
   "outputs": [],
   "source": [
    "# Imported libraries\n",
    "import math\n",
    "import pandas as pd\n",
    "\n",
    "def forwardKinematics(l1,l2,l3,theta_1,theta_2,theta_3,d2,f):\n",
    "    \n",
    "    #We have to calculate the following terms...\n",
    "    theta_x=0# The angle with opposite-d3\n",
    "    theta_y=0# The angle with adjacent-d4. The angle with opposite-d6\n",
    "    d3,d4,d5,d6=0,0,0,0\n",
    "    d1=0\n",
    "    x,y,z=0,0,0# Position\n",
    "    # !!!...!!!...!!!    \n",
    "    \n",
    "    theta_x=90-theta_2\n",
    "    theta_y=theta_3-theta_x\n",
    "\n",
    "    # l1 is hypotenus\n",
    "    d3=math.sin(math.radians(theta_2))*l1\n",
    "    d4=math.cos(math.radians(theta_2))*l1\n",
    "    # ...\n",
    "\n",
    "    # l2 is hypotenus\n",
    "    d5=math.sin(math.radians(theta_y))*l2\n",
    "    d6=math.cos(math.radians(theta_y))*l2\n",
    "    # ...\n",
    "\n",
    "    # !!!...!!!...!!!\n",
    "    flag=f\n",
    "        #True: End effector is parallel to the base/ground\n",
    "        # False: End effector is perpendicular to the base/ground\n",
    "\n",
    "    d1=d4+d5\n",
    "    if flag:#True if end effector is parallel to the ground\n",
    "        x=math.cos(math.radians(theta_1))*(d1+l3)#(d1+l3) : current of arm from base\n",
    "        y=math.sin(math.radians(theta_1))*(d1+l3)#(d1+l3) : current of arm from base\n",
    "        z=d2+(d3-d6)#The height of arm endpoint    \n",
    "    else:\n",
    "        x=math.cos(math.radians(theta_1))*d1\n",
    "        y=math.sin(math.radians(theta_1))*d1\n",
    "        z=d2+(d3-d6)-l3\n",
    "    # !!!...!!!...!!!\n",
    "    \n",
    "    # Decimal places...\n",
    "    d=2\n",
    "    # Rounded-off positional value\n",
    "    x,y,z=round(x,d),round(y,d),round(z,d)\n",
    "    endpoint=x,y,z\n",
    "    \n",
    "    d={\"theta_x\":[theta_x],\"theta_y\":[theta_y],\"d1\":[d1],\"d3\":[d3],\"d4\":[d4],\"d5\":[d5],\"d6\":[d6],\"X\":[x],\"Y\":y,\"Z\":[z],\"End Point\":[endpoint]}\n",
    "    \n",
    "    df=pd.DataFrame(data=d)\n",
    "    df = df.style.set_table_styles([dict(selector='th', props=[('text-align', 'center')])])\n",
    "    df.name=\"\\n\\nForward Kinematics\"\n",
    "    print(df.name)\n",
    "    return df.set_properties(**{'text-align': 'center'}).hide_index()"
   ]
  },
  {
   "cell_type": "code",
   "execution_count": 8,
   "metadata": {},
   "outputs": [
    {
     "name": "stdout",
     "output_type": "stream",
     "text": [
      "Enter your student id : 17301097\n",
      "\n",
      "\n",
      "Forward Kinematics\n"
     ]
    },
    {
     "data": {
      "text/html": [
       "<style  type=\"text/css\" >\n",
       "    #T_07a43_ th {\n",
       "          text-align: center;\n",
       "    }#T_07a43_row0_col0,#T_07a43_row0_col1,#T_07a43_row0_col2,#T_07a43_row0_col3,#T_07a43_row0_col4,#T_07a43_row0_col5,#T_07a43_row0_col6,#T_07a43_row0_col7,#T_07a43_row0_col8,#T_07a43_row0_col9,#T_07a43_row0_col10{\n",
       "            text-align:  center;\n",
       "        }</style><table id=\"T_07a43_\" ><thead>    <tr>        <th class=\"col_heading level0 col0\" >theta_x</th>        <th class=\"col_heading level0 col1\" >theta_y</th>        <th class=\"col_heading level0 col2\" >d1</th>        <th class=\"col_heading level0 col3\" >d3</th>        <th class=\"col_heading level0 col4\" >d4</th>        <th class=\"col_heading level0 col5\" >d5</th>        <th class=\"col_heading level0 col6\" >d6</th>        <th class=\"col_heading level0 col7\" >X</th>        <th class=\"col_heading level0 col8\" >Y</th>        <th class=\"col_heading level0 col9\" >Z</th>        <th class=\"col_heading level0 col10\" >End Point</th>    </tr></thead><tbody>\n",
       "                <tr>\n",
       "                                <td id=\"T_07a43_row0_col0\" class=\"data row0 col0\" >45</td>\n",
       "                        <td id=\"T_07a43_row0_col1\" class=\"data row0 col1\" >0</td>\n",
       "                        <td id=\"T_07a43_row0_col2\" class=\"data row0 col2\" >12.020815</td>\n",
       "                        <td id=\"T_07a43_row0_col3\" class=\"data row0 col3\" >12.020815</td>\n",
       "                        <td id=\"T_07a43_row0_col4\" class=\"data row0 col4\" >12.020815</td>\n",
       "                        <td id=\"T_07a43_row0_col5\" class=\"data row0 col5\" >0.000000</td>\n",
       "                        <td id=\"T_07a43_row0_col6\" class=\"data row0 col6\" >30.000000</td>\n",
       "                        <td id=\"T_07a43_row0_col7\" class=\"data row0 col7\" >8.500000</td>\n",
       "                        <td id=\"T_07a43_row0_col8\" class=\"data row0 col8\" >8.500000</td>\n",
       "                        <td id=\"T_07a43_row0_col9\" class=\"data row0 col9\" >69.020000</td>\n",
       "                        <td id=\"T_07a43_row0_col10\" class=\"data row0 col10\" >(8.5, 8.5, 69.02)</td>\n",
       "            </tr>\n",
       "    </tbody></table>"
      ],
      "text/plain": [
       "<pandas.io.formats.style.Styler at 0x1d9f6cb9e88>"
      ]
     },
     "execution_count": 8,
     "metadata": {},
     "output_type": "execute_result"
    }
   ],
   "source": [
    "student_id=input(\"Enter your student id : \")\n",
    "l1=int(student_id[:2])#Length of first arm...\n",
    "l2=int(student_id[2:4])#Length of second arm...\n",
    "l3=int(student_id[4:6])#Length of third arm(End effector)...\n",
    "d2=int(student_id[6:])#Height of manipulator\n",
    "\n",
    "theta_1=45#Angle of base rotation...\n",
    "theta_2=45#Angle of first arm from horizon...\n",
    "theta_3=45#theta_3=theta_x+theta_y , Angle between 1st and 2nd arm...\n",
    "\n",
    "# Function calling...\n",
    "    #True: End effector is parallel to the base/ground\n",
    "    # False: End effector is perpendicular to the base/ground\n",
    "forwardKinematics(l1,l2,l3,theta_1,theta_2,theta_3,d2,False)"
   ]
  },
  {
   "cell_type": "code",
   "execution_count": null,
   "metadata": {},
   "outputs": [],
   "source": []
  },
  {
   "cell_type": "markdown",
   "metadata": {},
   "source": [
    "<h1>Reverse Kinematics</h1>"
   ]
  },
  {
   "cell_type": "code",
   "execution_count": 5,
   "metadata": {},
   "outputs": [],
   "source": [
    "# Imported libraries\n",
    "import math\n",
    "import pandas as pd\n",
    "\n",
    "def forwardKinematics(l1,l2,l3,x,y,z,d2,f):\n",
    "    \n",
    "    #We have to calculate the following terms...\n",
    "\n",
    "    theta_4=0\n",
    "    theta_6=0\n",
    "    theta_7=0\n",
    "    \n",
    "    d1,d6=0,0\n",
    "    \n",
    "    theta_1=0#Angle of base rotation...\n",
    "    theta_2=0#Angle of first arm from horizon...\n",
    "    theta_3=0#theta_3=theta_x+theta_y , Angle between 1st and 2nd arm...\n",
    "    \n",
    "    flag=f\n",
    "        #True: End effector is parallel to the base/ground\n",
    "        # False: End effector is perpendicular to the base/ground\n",
    "        \n",
    "    # !!!...!!!...!!! \n",
    "    if flag:\n",
    "        d1=math.sqrt(x**2+y**2)-l3\n",
    "    else:\n",
    "        d1=math.sqrt(x**2+y**2) \n",
    "    \n",
    "    if flag:\n",
    "        theta_1=math.degrees(math.acos(x/(d1+l3)))\n",
    "    else:\n",
    "        theta_1=math.degrees(math.acos(x/d1))   \n",
    "        \n",
    "    d6=math.sqrt(d1**2+(z-d2)**2)\n",
    "    \n",
    "    try:\n",
    "        theta_7=math.degrees(math.acos(d1/d6))\n",
    "    except ValueError:\n",
    "        theta_7=\"Math Domain Error\"\n",
    "        \n",
    "    try:\n",
    "        theta_3=math.degrees(math.acos((l1**2+l2**2-d6**2)/(2*l1*l2)))\n",
    "    except ValueError:\n",
    "        theta_3=\"Math Domain Error\"\n",
    "    try:\n",
    "        theta_6=math.degrees(math.acos((l1**2+d6**2-l2**2)/(2*l1*d6)))\n",
    "    except ValueError:\n",
    "        theta_6=\"Math Domain Error\"\n",
    "        \n",
    "    if (theta_6 or theta_7)==\"Math Domain Error\":\n",
    "        theta_2=None\n",
    "    else:\n",
    "        theta_2=theta_6+theta_7\n",
    "        \n",
    "    if theta_2!=None:\n",
    "        if flag:\n",
    "            theta_4=theta_2+theta_3\n",
    "        else:\n",
    "            theta_4=theta_2+theta_3+90\n",
    "    else:\n",
    "        theta_4=None\n",
    "\n",
    "    # !!!...!!!...!!!\n",
    "    \n",
    "    d={\"d1\":[d1],\"d6\":[d6],\"theta_1\":[theta_1],\"theta_2\":[theta_2],\"theta_3\":[theta_3],\"theta_4\":[theta_4],\"theta_6\":[theta_6],\"theta_7\":[theta_7]}\n",
    "    \n",
    "    df=pd.DataFrame(data=d)\n",
    "    df = df.style.set_table_styles([dict(selector='th', props=[('text-align', 'center')])])\n",
    "    df.name=\"\\n\\nReverse Kinematics\"\n",
    "    print(df.name)\n",
    "    return df.set_properties(**{'text-align': 'center'}).hide_index()"
   ]
  },
  {
   "cell_type": "code",
   "execution_count": 6,
   "metadata": {},
   "outputs": [
    {
     "name": "stdout",
     "output_type": "stream",
     "text": [
      "Enter your student id : 17301097\n",
      "\n",
      "\n",
      "Reverse Kinematics\n"
     ]
    },
    {
     "data": {
      "text/html": [
       "<style  type=\"text/css\" >\n",
       "    #T_60d77_ th {\n",
       "          text-align: center;\n",
       "    }#T_60d77_row0_col0,#T_60d77_row0_col1,#T_60d77_row0_col2,#T_60d77_row0_col3,#T_60d77_row0_col4,#T_60d77_row0_col5,#T_60d77_row0_col6,#T_60d77_row0_col7{\n",
       "            text-align:  center;\n",
       "        }</style><table id=\"T_60d77_\" ><thead>    <tr>        <th class=\"col_heading level0 col0\" >d1</th>        <th class=\"col_heading level0 col1\" >d6</th>        <th class=\"col_heading level0 col2\" >theta_1</th>        <th class=\"col_heading level0 col3\" >theta_2</th>        <th class=\"col_heading level0 col4\" >theta_3</th>        <th class=\"col_heading level0 col5\" >theta_4</th>        <th class=\"col_heading level0 col6\" >theta_6</th>        <th class=\"col_heading level0 col7\" >theta_7</th>    </tr></thead><tbody>\n",
       "                <tr>\n",
       "                                <td id=\"T_60d77_row0_col0\" class=\"data row0 col0\" >15.811388</td>\n",
       "                        <td id=\"T_60d77_row0_col1\" class=\"data row0 col1\" >88.425110</td>\n",
       "                        <td id=\"T_60d77_row0_col2\" class=\"data row0 col2\" >18.434949</td>\n",
       "                        <td id=\"T_60d77_row0_col3\" class=\"data row0 col3\" >None</td>\n",
       "                        <td id=\"T_60d77_row0_col4\" class=\"data row0 col4\" >Math Domain Error</td>\n",
       "                        <td id=\"T_60d77_row0_col5\" class=\"data row0 col5\" >None</td>\n",
       "                        <td id=\"T_60d77_row0_col6\" class=\"data row0 col6\" >Math Domain Error</td>\n",
       "                        <td id=\"T_60d77_row0_col7\" class=\"data row0 col7\" >79.699484</td>\n",
       "            </tr>\n",
       "    </tbody></table>"
      ],
      "text/plain": [
       "<pandas.io.formats.style.Styler at 0x1d9f6cb9408>"
      ]
     },
     "execution_count": 6,
     "metadata": {},
     "output_type": "execute_result"
    }
   ],
   "source": [
    "student_id=input(\"Enter your student id : \")\n",
    "l1=int(student_id[:2])#Length of first arm...\n",
    "l2=int(student_id[2:4])#Length of second arm...\n",
    "l3=int(student_id[4:6])#Length of third arm(End effector)...\n",
    "d2=int(student_id[6:])#Height of manipulator\n",
    "\n",
    "x=15\n",
    "y=5\n",
    "z=10\n",
    "\n",
    "# Function calling...\n",
    "    #True: End effector is parallel to the base/ground\n",
    "    # False: End effector is perpendicular to the base/ground\n",
    "forwardKinematics(l1,l2,l3,x,y,z,d2,False)"
   ]
  },
  {
   "cell_type": "code",
   "execution_count": null,
   "metadata": {},
   "outputs": [],
   "source": []
  }
 ],
 "metadata": {
  "kernelspec": {
   "display_name": "Python 3",
   "language": "python",
   "name": "python3"
  },
  "language_info": {
   "codemirror_mode": {
    "name": "ipython",
    "version": 3
   },
   "file_extension": ".py",
   "mimetype": "text/x-python",
   "name": "python",
   "nbconvert_exporter": "python",
   "pygments_lexer": "ipython3",
   "version": "3.7.6"
  }
 },
 "nbformat": 4,
 "nbformat_minor": 4
}
